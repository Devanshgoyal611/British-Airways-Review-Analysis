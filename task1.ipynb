{
 "cells": [
  {
   "cell_type": "code",
   "execution_count": 14,
   "metadata": {},
   "outputs": [],
   "source": [
    "import requests\n",
    "from bs4 import BeautifulSoup\n",
    "import pandas as pd\n",
    "import string\n",
    "import numpy as np\n",
    "import seaborn as sns\n",
    "import matplotlib.pyplot as plt"
   ]
  },
  {
   "cell_type": "code",
   "execution_count": 2,
   "metadata": {},
   "outputs": [
    {
     "name": "stdout",
     "output_type": "stream",
     "text": [
      "Scrapping page 1\n",
      "100\n",
      "Scrapping page 2\n",
      "200\n",
      "Scrapping page 3\n",
      "300\n",
      "Scrapping page 4\n",
      "400\n",
      "Scrapping page 5\n",
      "500\n",
      "Scrapping page 6\n",
      "600\n",
      "Scrapping page 7\n",
      "700\n",
      "Scrapping page 8\n",
      "800\n",
      "Scrapping page 9\n",
      "900\n",
      "Scrapping page 10\n",
      "1000\n",
      "Scrapping page 11\n",
      "1100\n",
      "Scrapping page 12\n",
      "1200\n",
      "Scrapping page 13\n",
      "1300\n",
      "Scrapping page 14\n"
     ]
    }
   ],
   "source": [
    "base_url = \"https://www.airlinequality.com/airline-reviews/british-airways\"\n",
    "pages = 37\n",
    "page_size = 100\n",
    "\n",
    "reviews = []\n",
    "\n",
    "for i in range(1, pages + 1):\n",
    "    print(f\"Scrapping page {i}\")\n",
    "    url = f\"{base_url}/page/{i}/?sortby=post_date%3ADesc&pagesize={page_size}\"\n",
    "    \n",
    "    response = requests.get(url)\n",
    "    content = response.content\n",
    "    parsed_content = BeautifulSoup(content, 'html.parser')\n",
    "    \n",
    "    for para in parsed_content.find_all(\"div\", {\"class\": \"text_content\"}):\n",
    "        reviews.append(para.get_text())\n",
    "        \n",
    "    print(len(reviews))\n",
    "    "
   ]
  },
  {
   "cell_type": "code",
   "execution_count": null,
   "metadata": {},
   "outputs": [
    {
     "data": {
      "text/html": [
       "<div>\n",
       "<style scoped>\n",
       "    .dataframe tbody tr th:only-of-type {\n",
       "        vertical-align: middle;\n",
       "    }\n",
       "\n",
       "    .dataframe tbody tr th {\n",
       "        vertical-align: top;\n",
       "    }\n",
       "\n",
       "    .dataframe thead th {\n",
       "        text-align: right;\n",
       "    }\n",
       "</style>\n",
       "<table border=\"1\" class=\"dataframe\">\n",
       "  <thead>\n",
       "    <tr style=\"text-align: right;\">\n",
       "      <th></th>\n",
       "      <th>reviews</th>\n",
       "    </tr>\n",
       "  </thead>\n",
       "  <tbody>\n",
       "    <tr>\n",
       "      <th>0</th>\n",
       "      <td>✅ Trip Verified |   Chaos at Terminal 5 with B...</td>\n",
       "    </tr>\n",
       "    <tr>\n",
       "      <th>1</th>\n",
       "      <td>Not Verified |  BA cancelled our flight and co...</td>\n",
       "    </tr>\n",
       "    <tr>\n",
       "      <th>2</th>\n",
       "      <td>✅ Trip Verified | When on our way to Heathrow ...</td>\n",
       "    </tr>\n",
       "    <tr>\n",
       "      <th>3</th>\n",
       "      <td>✅ Trip Verified | Nice flight, good crew, very...</td>\n",
       "    </tr>\n",
       "    <tr>\n",
       "      <th>4</th>\n",
       "      <td>✅ Trip Verified |  8 months have passed and st...</td>\n",
       "    </tr>\n",
       "    <tr>\n",
       "      <th>...</th>\n",
       "      <td>...</td>\n",
       "    </tr>\n",
       "    <tr>\n",
       "      <th>3627</th>\n",
       "      <td>Flew return in CW from LHR to BKK in August 20...</td>\n",
       "    </tr>\n",
       "    <tr>\n",
       "      <th>3628</th>\n",
       "      <td>LHR to HAM. Purser addresses all club passenge...</td>\n",
       "    </tr>\n",
       "    <tr>\n",
       "      <th>3629</th>\n",
       "      <td>My son who had worked for British Airways urge...</td>\n",
       "    </tr>\n",
       "    <tr>\n",
       "      <th>3630</th>\n",
       "      <td>London City-New York JFK via Shannon on A318 b...</td>\n",
       "    </tr>\n",
       "    <tr>\n",
       "      <th>3631</th>\n",
       "      <td>SIN-LHR BA12 B747-436 First Class. Old aircraf...</td>\n",
       "    </tr>\n",
       "  </tbody>\n",
       "</table>\n",
       "<p>3632 rows × 1 columns</p>\n",
       "</div>"
      ],
      "text/plain": [
       "                                                reviews\n",
       "0     ✅ Trip Verified |   Chaos at Terminal 5 with B...\n",
       "1     Not Verified |  BA cancelled our flight and co...\n",
       "2     ✅ Trip Verified | When on our way to Heathrow ...\n",
       "3     ✅ Trip Verified | Nice flight, good crew, very...\n",
       "4     ✅ Trip Verified |  8 months have passed and st...\n",
       "...                                                 ...\n",
       "3627  Flew return in CW from LHR to BKK in August 20...\n",
       "3628  LHR to HAM. Purser addresses all club passenge...\n",
       "3629  My son who had worked for British Airways urge...\n",
       "3630  London City-New York JFK via Shannon on A318 b...\n",
       "3631  SIN-LHR BA12 B747-436 First Class. Old aircraf...\n",
       "\n",
       "[3632 rows x 1 columns]"
      ]
     },
     "execution_count": 4,
     "metadata": {},
     "output_type": "execute_result"
    }
   ],
   "source": [
    "df = pd.DataFrame()\n",
    "df['reviews'] = reviews\n",
    "df"
   ]
  },
  {
   "cell_type": "code",
   "execution_count": null,
   "metadata": {},
   "outputs": [],
   "source": [
    "df.to_csv(\"BA_Reviews.csv\")"
   ]
  },
  {
   "cell_type": "markdown",
   "metadata": {},
   "source": [
    "## Web Scrapping Part is Done"
   ]
  },
  {
   "cell_type": "code",
   "execution_count": 2,
   "metadata": {},
   "outputs": [
    {
     "data": {
      "text/plain": [
       "0       ✅ Trip Verified |   Chaos at Terminal 5 with B...\n",
       "1       Not Verified |  BA cancelled our flight and co...\n",
       "2       ✅ Trip Verified | When on our way to Heathrow ...\n",
       "3       ✅ Trip Verified | Nice flight, good crew, very...\n",
       "4       ✅ Trip Verified |  8 months have passed and st...\n",
       "                              ...                        \n",
       "3627    Flew return in CW from LHR to BKK in August 20...\n",
       "3628    LHR to HAM. Purser addresses all club passenge...\n",
       "3629    My son who had worked for British Airways urge...\n",
       "3630    London City-New York JFK via Shannon on A318 b...\n",
       "3631    SIN-LHR BA12 B747-436 First Class. Old aircraf...\n",
       "Name: reviews, Length: 3632, dtype: object"
      ]
     },
     "execution_count": 2,
     "metadata": {},
     "output_type": "execute_result"
    }
   ],
   "source": [
    "reviews = pd.read_csv(\"BA_Reviews.csv\")\n",
    "reviews = reviews.pop('reviews')\n",
    "reviews"
   ]
  },
  {
   "cell_type": "markdown",
   "metadata": {},
   "source": [
    "## Cleaning text"
   ]
  },
  {
   "cell_type": "code",
   "execution_count": 3,
   "metadata": {},
   "outputs": [],
   "source": [
    "def remove_punctuations(text):\n",
    "    for punctuation in string.punctuation:  # !\"#$%&'()*+,-./:;<=>?@[\\]^_`{|}~   removes these character\n",
    "        text = text.replace(punctuation, '')\n",
    "    return text"
   ]
  },
  {
   "cell_type": "code",
   "execution_count": 4,
   "metadata": {},
   "outputs": [],
   "source": [
    "def remove_short_words(text):\n",
    "    words = text.split()\n",
    "    filtered_words = [word for word in words if len(word) > 3]  # Adjust the length condition as needed\n",
    "    return ' '.join(filtered_words)"
   ]
  },
  {
   "cell_type": "code",
   "execution_count": 5,
   "metadata": {},
   "outputs": [
    {
     "data": {
      "text/plain": [
       "0       Chaos Terminal with cancellations delays staff...\n",
       "1       Verified cancelled flight could book onto flig...\n",
       "2       When Heathrow Airport merely half hours before...\n",
       "3       Nice flight good crew very good seat food what...\n",
       "4       months have passed still wasting time with tea...\n",
       "                              ...                        \n",
       "3627    Flew return from August 2012 positives both fl...\n",
       "3628    HAM Purser addresses club passengers name boar...\n",
       "3629    worked British Airways urged British Airways K...\n",
       "3630    London CityNew York Shannon A318 really nice s...\n",
       "3631    SINLHR BA12 B747436 First Class aircraft 1998 ...\n",
       "Name: reviews, Length: 3632, dtype: object"
      ]
     },
     "execution_count": 5,
     "metadata": {},
     "output_type": "execute_result"
    }
   ],
   "source": [
    "reviews = reviews.str.replace('Trip Verified |', '')\n",
    "reviews = reviews.str.replace('✅', '')\n",
    "# reviews = reviews.str.replace(r'\\b\\w{1,3}\\b', '')\n",
    "reviews = reviews.apply(remove_short_words)\n",
    "reviews = reviews.apply(remove_punctuations)\n",
    "reviews"
   ]
  },
  {
   "cell_type": "code",
   "execution_count": 6,
   "metadata": {},
   "outputs": [
    {
     "data": {
      "text/plain": [
       "(3632,)"
      ]
     },
     "execution_count": 6,
     "metadata": {},
     "output_type": "execute_result"
    }
   ],
   "source": [
    "reviews.shape"
   ]
  },
  {
   "cell_type": "code",
   "execution_count": 7,
   "metadata": {},
   "outputs": [
    {
     "data": {
      "text/plain": [
       "flight        6449\n",
       "with          5805\n",
       "were          4407\n",
       "that          4207\n",
       "this          3541\n",
       "they          3482\n",
       "have          3308\n",
       "from          3035\n",
       "very          2794\n",
       "service       2764\n",
       "seat          2345\n",
       "food          2317\n",
       "london        2142\n",
       "crew          2108\n",
       "british       2105\n",
       "airways       2088\n",
       "seats         2075\n",
       "good          2056\n",
       "time          1996\n",
       "cabin         1934\n",
       "which         1870\n",
       "class         1842\n",
       "there         1703\n",
       "when          1547\n",
       "staff         1546\n",
       "business      1535\n",
       "heathrow      1504\n",
       "would         1477\n",
       "only          1447\n",
       "their         1412\n",
       "economy       1403\n",
       "first         1255\n",
       "after         1222\n",
       "flights       1160\n",
       "more          1146\n",
       "been          1103\n",
       "return        1094\n",
       "just          1074\n",
       "club          1073\n",
       "other         1071\n",
       "than          1060\n",
       "back          1048\n",
       "again         1022\n",
       "hours         1020\n",
       "plane         1020\n",
       "lounge        1004\n",
       "passengers     999\n",
       "verified       991\n",
       "airline        990\n",
       "boarding       977\n",
       "Name: count, dtype: int64"
      ]
     },
     "execution_count": 7,
     "metadata": {},
     "output_type": "execute_result"
    }
   ],
   "source": [
    "freq_words = pd.Series(' '.join(reviews).lower().split()).value_counts()[:50]\n",
    "freq_words"
   ]
  },
  {
   "cell_type": "code",
   "execution_count": 8,
   "metadata": {},
   "outputs": [
    {
     "data": {
      "image/png": "[encoded data removed]",
      "text/plain": [
       "<Figure size 1000x1000 with 1 Axes>"
      ]
     },
     "metadata": {},
     "output_type": "display_data"
    }
   ],
   "source": [
    "plt.figure(figsize=(10,10))\n",
    "freq_words.plot.barh(x=freq_words[0], y=freq_words[1])\n",
    "plt.show()"
   ]
  },
  {
   "cell_type": "markdown",
   "metadata": {},
   "source": [
    "## Text Clustering"
   ]
  },
  {
   "cell_type": "code",
   "execution_count": 25,
   "metadata": {},
   "outputs": [],
   "source": [
    "cat = ['positive', 'negative']\n",
    "num_cat = len(cat)"
   ]
  },
  {
   "cell_type": "code",
   "execution_count": 26,
   "metadata": {},
   "outputs": [],
   "source": [
    "from sklearn.feature_extraction.text import TfidfVectorizer\n",
    "from nltk.tokenize import RegexpTokenizer\n",
    "\n",
    "tokenizer = RegexpTokenizer(r'\\w+')\n",
    "\n",
    "tf_idf_vect = TfidfVectorizer(lowercase=True, stop_words='english', ngram_range = (1,1), tokenizer = tokenizer.tokenize)"
   ]
  },
  {
   "cell_type": "code",
   "execution_count": 27,
   "metadata": {},
   "outputs": [
    {
     "name": "stderr",
     "output_type": "stream",
     "text": [
      "c:\\Python311\\Lib\\site-packages\\sklearn\\feature_extraction\\text.py:528: UserWarning: The parameter 'token_pattern' will not be used since 'tokenizer' is not None'\n",
      "  warnings.warn(\n"
     ]
    },
    {
     "data": {
      "text/plain": [
       "(3632, 14573)"
      ]
     },
     "execution_count": 27,
     "metadata": {},
     "output_type": "execute_result"
    }
   ],
   "source": [
    "review_counts = tf_idf_vect.fit_transform(reviews)\n",
    "\n",
    "review_counts.shape"
   ]
  },
  {
   "cell_type": "code",
   "execution_count": 28,
   "metadata": {},
   "outputs": [
    {
     "name": "stderr",
     "output_type": "stream",
     "text": [
      "c:\\Python311\\Lib\\site-packages\\sklearn\\cluster\\_kmeans.py:870: FutureWarning: The default value of `n_init` will change from 10 to 'auto' in 1.4. Set the value of `n_init` explicitly to suppress the warning\n",
      "  warnings.warn(\n"
     ]
    },
    {
     "data": {
      "text/plain": [
       "array([0, 0, 0, ..., 0, 1, 1])"
      ]
     },
     "execution_count": 28,
     "metadata": {},
     "output_type": "execute_result"
    }
   ],
   "source": [
    "from sklearn.cluster import KMeans\n",
    "\n",
    "Kmeans = KMeans(n_clusters=num_cat).fit(review_counts)\n",
    "\n",
    "pred_labels = Kmeans.labels_\n",
    "pred_labels"
   ]
  },
  {
   "cell_type": "code",
   "execution_count": 29,
   "metadata": {},
   "outputs": [
    {
     "data": {
      "text/plain": [
       "array([[7.16031919e-05, 0.00000000e+00, 1.93388033e-04, ...,\n",
       "        0.00000000e+00, 0.00000000e+00, 6.82611530e-05],\n",
       "       [0.00000000e+00, 6.86001569e-05, 0.00000000e+00, ...,\n",
       "        5.95460148e-05, 8.74782298e-05, 0.00000000e+00]])"
      ]
     },
     "execution_count": 29,
     "metadata": {},
     "output_type": "execute_result"
    }
   ],
   "source": [
    "cluster_centres = Kmeans.cluster_centers_\n",
    "cluster_centres"
   ]
  },
  {
   "cell_type": "code",
   "execution_count": 30,
   "metadata": {},
   "outputs": [
    {
     "data": {
      "text/plain": [
       "{0: 1332, 1: 2300}"
      ]
     },
     "execution_count": 30,
     "metadata": {},
     "output_type": "execute_result"
    }
   ],
   "source": [
    "unique, count = np.unique(pred_labels, return_counts=True)\n",
    "dict(zip(unique, count))   # positive and negative features"
   ]
  },
  {
   "cell_type": "code",
   "execution_count": 31,
   "metadata": {},
   "outputs": [
    {
     "name": "stdout",
     "output_type": "stream",
     "text": [
      "DBI Score:  12.613321548314985\n",
      "Silhoutte score:  0.006609773425142828\n"
     ]
    }
   ],
   "source": [
    "from sklearn import metrics\n",
    "\n",
    "dbi = metrics.davies_bouldin_score(review_counts.toarray(), pred_labels)\n",
    "\n",
    "ss = metrics.silhouette_score(review_counts.toarray(), pred_labels, metric='euclidean')\n",
    "\n",
    "# Both of these gives clustering scores\n",
    "# how similar an object is to its own cluster compared to other clusters. \n",
    "\n",
    "print(\"DBI Score: \", dbi)\n",
    "print(\"Silhoutte score: \", ss)"
   ]
  },
  {
   "cell_type": "code",
   "execution_count": 32,
   "metadata": {},
   "outputs": [
    {
     "data": {
      "text/html": [
       "<div>\n",
       "<style scoped>\n",
       "    .dataframe tbody tr th:only-of-type {\n",
       "        vertical-align: middle;\n",
       "    }\n",
       "\n",
       "    .dataframe tbody tr th {\n",
       "        vertical-align: top;\n",
       "    }\n",
       "\n",
       "    .dataframe thead th {\n",
       "        text-align: right;\n",
       "    }\n",
       "</style>\n",
       "<table border=\"1\" class=\"dataframe\">\n",
       "  <thead>\n",
       "    <tr style=\"text-align: right;\">\n",
       "      <th></th>\n",
       "      <th>review</th>\n",
       "      <th>label</th>\n",
       "    </tr>\n",
       "  </thead>\n",
       "  <tbody>\n",
       "    <tr>\n",
       "      <th>0</th>\n",
       "      <td>Chaos Terminal with cancellations delays staff...</td>\n",
       "      <td>0</td>\n",
       "    </tr>\n",
       "    <tr>\n",
       "      <th>1</th>\n",
       "      <td>Verified cancelled flight could book onto flig...</td>\n",
       "      <td>0</td>\n",
       "    </tr>\n",
       "    <tr>\n",
       "      <th>2</th>\n",
       "      <td>When Heathrow Airport merely half hours before...</td>\n",
       "      <td>0</td>\n",
       "    </tr>\n",
       "    <tr>\n",
       "      <th>3</th>\n",
       "      <td>Nice flight good crew very good seat food what...</td>\n",
       "      <td>1</td>\n",
       "    </tr>\n",
       "    <tr>\n",
       "      <th>4</th>\n",
       "      <td>months have passed still wasting time with tea...</td>\n",
       "      <td>0</td>\n",
       "    </tr>\n",
       "    <tr>\n",
       "      <th>...</th>\n",
       "      <td>...</td>\n",
       "      <td>...</td>\n",
       "    </tr>\n",
       "    <tr>\n",
       "      <th>3627</th>\n",
       "      <td>Flew return from August 2012 positives both fl...</td>\n",
       "      <td>1</td>\n",
       "    </tr>\n",
       "    <tr>\n",
       "      <th>3628</th>\n",
       "      <td>HAM Purser addresses club passengers name boar...</td>\n",
       "      <td>1</td>\n",
       "    </tr>\n",
       "    <tr>\n",
       "      <th>3629</th>\n",
       "      <td>worked British Airways urged British Airways K...</td>\n",
       "      <td>0</td>\n",
       "    </tr>\n",
       "    <tr>\n",
       "      <th>3630</th>\n",
       "      <td>London CityNew York Shannon A318 really nice s...</td>\n",
       "      <td>1</td>\n",
       "    </tr>\n",
       "    <tr>\n",
       "      <th>3631</th>\n",
       "      <td>SINLHR BA12 B747436 First Class aircraft 1998 ...</td>\n",
       "      <td>1</td>\n",
       "    </tr>\n",
       "  </tbody>\n",
       "</table>\n",
       "<p>3632 rows × 2 columns</p>\n",
       "</div>"
      ],
      "text/plain": [
       "                                                 review  label\n",
       "0     Chaos Terminal with cancellations delays staff...      0\n",
       "1     Verified cancelled flight could book onto flig...      0\n",
       "2     When Heathrow Airport merely half hours before...      0\n",
       "3     Nice flight good crew very good seat food what...      1\n",
       "4     months have passed still wasting time with tea...      0\n",
       "...                                                 ...    ...\n",
       "3627  Flew return from August 2012 positives both fl...      1\n",
       "3628  HAM Purser addresses club passengers name boar...      1\n",
       "3629  worked British Airways urged British Airways K...      0\n",
       "3630  London CityNew York Shannon A318 really nice s...      1\n",
       "3631  SINLHR BA12 B747436 First Class aircraft 1998 ...      1\n",
       "\n",
       "[3632 rows x 2 columns]"
      ]
     },
     "execution_count": 32,
     "metadata": {},
     "output_type": "execute_result"
    }
   ],
   "source": [
    "df_reviews = pd.DataFrame({'review': reviews, 'label': pred_labels})\n",
    "df_reviews"
   ]
  },
  {
   "cell_type": "code",
   "execution_count": 33,
   "metadata": {},
   "outputs": [
    {
     "data": {
      "text/plain": [
       "<seaborn.axisgrid.FacetGrid at 0x20da7b94e10>"
      ]
     },
     "execution_count": 33,
     "metadata": {},
     "output_type": "execute_result"
    },
    {
     "data": {
      "image/png": "[encoded data removed]",
      "text/plain": [
       "<Figure size 500x500 with 1 Axes>"
      ]
     },
     "metadata": {},
     "output_type": "display_data"
    }
   ],
   "source": [
    "sns.displot(df_reviews['label'], kde=True)"
   ]
  },
  {
   "cell_type": "code",
   "execution_count": 34,
   "metadata": {},
   "outputs": [
    {
     "data": {
      "text/html": [
       "<div>\n",
       "<style scoped>\n",
       "    .dataframe tbody tr th:only-of-type {\n",
       "        vertical-align: middle;\n",
       "    }\n",
       "\n",
       "    .dataframe tbody tr th {\n",
       "        vertical-align: top;\n",
       "    }\n",
       "\n",
       "    .dataframe thead th {\n",
       "        text-align: right;\n",
       "    }\n",
       "</style>\n",
       "<table border=\"1\" class=\"dataframe\">\n",
       "  <thead>\n",
       "    <tr style=\"text-align: right;\">\n",
       "      <th></th>\n",
       "      <th>review</th>\n",
       "      <th>label</th>\n",
       "    </tr>\n",
       "  </thead>\n",
       "  <tbody>\n",
       "    <tr>\n",
       "      <th>3</th>\n",
       "      <td>Nice flight good crew very good seat food what...</td>\n",
       "      <td>1</td>\n",
       "    </tr>\n",
       "    <tr>\n",
       "      <th>6</th>\n",
       "      <td>Ground cabin crew always provide good customer...</td>\n",
       "      <td>1</td>\n",
       "    </tr>\n",
       "    <tr>\n",
       "      <th>8</th>\n",
       "      <td>Easy check Galleries south North lounges packe...</td>\n",
       "      <td>1</td>\n",
       "    </tr>\n",
       "    <tr>\n",
       "      <th>11</th>\n",
       "      <td>Good domestic flight operated Cityflyer Ground...</td>\n",
       "      <td>1</td>\n",
       "    </tr>\n",
       "    <tr>\n",
       "      <th>16</th>\n",
       "      <td>most fantastic Flight today cabin crew seat zo...</td>\n",
       "      <td>1</td>\n",
       "    </tr>\n",
       "    <tr>\n",
       "      <th>...</th>\n",
       "      <td>...</td>\n",
       "      <td>...</td>\n",
       "    </tr>\n",
       "    <tr>\n",
       "      <th>3626</th>\n",
       "      <td>July 2012 flew overnight premium economy 767 c...</td>\n",
       "      <td>1</td>\n",
       "    </tr>\n",
       "    <tr>\n",
       "      <th>3627</th>\n",
       "      <td>Flew return from August 2012 positives both fl...</td>\n",
       "      <td>1</td>\n",
       "    </tr>\n",
       "    <tr>\n",
       "      <th>3628</th>\n",
       "      <td>HAM Purser addresses club passengers name boar...</td>\n",
       "      <td>1</td>\n",
       "    </tr>\n",
       "    <tr>\n",
       "      <th>3630</th>\n",
       "      <td>London CityNew York Shannon A318 really nice s...</td>\n",
       "      <td>1</td>\n",
       "    </tr>\n",
       "    <tr>\n",
       "      <th>3631</th>\n",
       "      <td>SINLHR BA12 B747436 First Class aircraft 1998 ...</td>\n",
       "      <td>1</td>\n",
       "    </tr>\n",
       "  </tbody>\n",
       "</table>\n",
       "<p>2300 rows × 2 columns</p>\n",
       "</div>"
      ],
      "text/plain": [
       "                                                 review  label\n",
       "3     Nice flight good crew very good seat food what...      1\n",
       "6     Ground cabin crew always provide good customer...      1\n",
       "8     Easy check Galleries south North lounges packe...      1\n",
       "11    Good domestic flight operated Cityflyer Ground...      1\n",
       "16    most fantastic Flight today cabin crew seat zo...      1\n",
       "...                                                 ...    ...\n",
       "3626  July 2012 flew overnight premium economy 767 c...      1\n",
       "3627  Flew return from August 2012 positives both fl...      1\n",
       "3628  HAM Purser addresses club passengers name boar...      1\n",
       "3630  London CityNew York Shannon A318 really nice s...      1\n",
       "3631  SINLHR BA12 B747436 First Class aircraft 1998 ...      1\n",
       "\n",
       "[2300 rows x 2 columns]"
      ]
     },
     "execution_count": 34,
     "metadata": {},
     "output_type": "execute_result"
    }
   ],
   "source": [
    "positive_reviews = df_reviews[df_reviews['label'] == 1]\n",
    "positive_reviews"
   ]
  },
  {
   "cell_type": "code",
   "execution_count": 35,
   "metadata": {},
   "outputs": [
    {
     "data": {
      "text/html": [
       "<div>\n",
       "<style scoped>\n",
       "    .dataframe tbody tr th:only-of-type {\n",
       "        vertical-align: middle;\n",
       "    }\n",
       "\n",
       "    .dataframe tbody tr th {\n",
       "        vertical-align: top;\n",
       "    }\n",
       "\n",
       "    .dataframe thead th {\n",
       "        text-align: right;\n",
       "    }\n",
       "</style>\n",
       "<table border=\"1\" class=\"dataframe\">\n",
       "  <thead>\n",
       "    <tr style=\"text-align: right;\">\n",
       "      <th></th>\n",
       "      <th>review</th>\n",
       "      <th>label</th>\n",
       "    </tr>\n",
       "  </thead>\n",
       "  <tbody>\n",
       "    <tr>\n",
       "      <th>0</th>\n",
       "      <td>Chaos Terminal with cancellations delays staff...</td>\n",
       "      <td>0</td>\n",
       "    </tr>\n",
       "    <tr>\n",
       "      <th>1</th>\n",
       "      <td>Verified cancelled flight could book onto flig...</td>\n",
       "      <td>0</td>\n",
       "    </tr>\n",
       "    <tr>\n",
       "      <th>2</th>\n",
       "      <td>When Heathrow Airport merely half hours before...</td>\n",
       "      <td>0</td>\n",
       "    </tr>\n",
       "    <tr>\n",
       "      <th>4</th>\n",
       "      <td>months have passed still wasting time with tea...</td>\n",
       "      <td>0</td>\n",
       "    </tr>\n",
       "    <tr>\n",
       "      <th>5</th>\n",
       "      <td>June flight cancelled within three hours depar...</td>\n",
       "      <td>0</td>\n",
       "    </tr>\n",
       "    <tr>\n",
       "      <th>...</th>\n",
       "      <td>...</td>\n",
       "      <td>...</td>\n",
       "    </tr>\n",
       "    <tr>\n",
       "      <th>3610</th>\n",
       "      <td>normally whine here goes LHRCDG 0725 Tuesday m...</td>\n",
       "      <td>0</td>\n",
       "    </tr>\n",
       "    <tr>\n",
       "      <th>3617</th>\n",
       "      <td>Heathrow Marrakech previously travelled Britis...</td>\n",
       "      <td>0</td>\n",
       "    </tr>\n",
       "    <tr>\n",
       "      <th>3621</th>\n",
       "      <td>This Regional operated flight RJ145 from Manch...</td>\n",
       "      <td>0</td>\n",
       "    </tr>\n",
       "    <tr>\n",
       "      <th>3623</th>\n",
       "      <td>Just back from Bridgetown Barbados flying with...</td>\n",
       "      <td>0</td>\n",
       "    </tr>\n",
       "    <tr>\n",
       "      <th>3629</th>\n",
       "      <td>worked British Airways urged British Airways K...</td>\n",
       "      <td>0</td>\n",
       "    </tr>\n",
       "  </tbody>\n",
       "</table>\n",
       "<p>1332 rows × 2 columns</p>\n",
       "</div>"
      ],
      "text/plain": [
       "                                                 review  label\n",
       "0     Chaos Terminal with cancellations delays staff...      0\n",
       "1     Verified cancelled flight could book onto flig...      0\n",
       "2     When Heathrow Airport merely half hours before...      0\n",
       "4     months have passed still wasting time with tea...      0\n",
       "5     June flight cancelled within three hours depar...      0\n",
       "...                                                 ...    ...\n",
       "3610  normally whine here goes LHRCDG 0725 Tuesday m...      0\n",
       "3617  Heathrow Marrakech previously travelled Britis...      0\n",
       "3621  This Regional operated flight RJ145 from Manch...      0\n",
       "3623  Just back from Bridgetown Barbados flying with...      0\n",
       "3629  worked British Airways urged British Airways K...      0\n",
       "\n",
       "[1332 rows x 2 columns]"
      ]
     },
     "execution_count": 35,
     "metadata": {},
     "output_type": "execute_result"
    }
   ],
   "source": [
    "negative_reviews = df_reviews[df_reviews['label'] == 0]\n",
    "negative_reviews"
   ]
  },
  {
   "cell_type": "code",
   "execution_count": null,
   "metadata": {},
   "outputs": [],
   "source": []
  }
 ],
 "metadata": {
  "kernelspec": {
   "display_name": "Python 3",
   "language": "python",
   "name": "python3"
  },
  "language_info": {
   "codemirror_mode": {
    "name": "ipython",
    "version": 3
   },
   "file_extension": ".py",
   "mimetype": "text/x-python",
   "name": "python",
   "nbconvert_exporter": "python",
   "pygments_lexer": "ipython3",
   "version": "3.11.4"
  },
  "orig_nbformat": 4
 },
 "nbformat": 4,
 "nbformat_minor": 2
}
